{
 "cells": [
  {
   "cell_type": "code",
   "execution_count": 1,
   "id": "4e1d9f73-fca4-4280-86f0-298aed9b83a5",
   "metadata": {},
   "outputs": [],
   "source": [
    "import os\n",
    "import numpy as np\n",
    "import tensorflow as tf\n",
    "from sklearn.utils.class_weight import compute_class_weight\n",
    "from tensorflow.keras.applications import MobileNetV2\n",
    "from tensorflow.keras.models import Model\n",
    "from tensorflow.keras.layers import GlobalAveragePooling2D, Dense, Dropout\n",
    "from tensorflow.keras.preprocessing.image import ImageDataGenerator\n",
    "from tensorflow.keras.callbacks import EarlyStopping, ModelCheckpoint, ReduceLROnPlateau\n",
    "from tensorflow.keras.optimizers import Adam\n",
    "from tensorflow.keras.metrics import Precision, Recall"
   ]
  },
  {
   "cell_type": "code",
   "execution_count": 2,
   "id": "daa84fc0-c499-4f3f-aee8-ad5bf17a4298",
   "metadata": {},
   "outputs": [],
   "source": [
    "# === PATHS & PARAMETERS ===\n",
    "dataset_path = 'dataset-resized'  # Update if your path differs\n",
    "img_height, img_width = 224, 224\n",
    "batch_size = 32\n",
    "epochs = 40"
   ]
  },
  {
   "cell_type": "code",
   "execution_count": 3,
   "id": "58b70055-2810-411c-8dab-e80eea3b94f3",
   "metadata": {},
   "outputs": [],
   "source": [
    "# === IMAGE DATA GENERATOR WITH AUGMENTATION ===\n",
    "datagen = ImageDataGenerator(\n",
    "    rescale=1./255,\n",
    "    validation_split=0.2,\n",
    "    rotation_range=30,\n",
    "    zoom_range=0.2,\n",
    "    width_shift_range=0.1,\n",
    "    height_shift_range=0.1,\n",
    "    brightness_range=[0.8, 1.2],\n",
    "    horizontal_flip=True\n",
    ")"
   ]
  },
  {
   "cell_type": "code",
   "execution_count": 4,
   "id": "8bb1dc43-ca15-458b-91ca-d0dfc324096a",
   "metadata": {},
   "outputs": [
    {
     "name": "stdout",
     "output_type": "stream",
     "text": [
      "Found 2024 images belonging to 6 classes.\n"
     ]
    }
   ],
   "source": [
    "train_generator = datagen.flow_from_directory(\n",
    "    dataset_path,\n",
    "    target_size=(img_height, img_width),\n",
    "    batch_size=batch_size,\n",
    "    class_mode='categorical',\n",
    "    subset='training',\n",
    "    shuffle=True\n",
    ")"
   ]
  },
  {
   "cell_type": "code",
   "execution_count": 5,
   "id": "94c49259-cbd2-47e6-bac1-8251a1249775",
   "metadata": {},
   "outputs": [
    {
     "name": "stdout",
     "output_type": "stream",
     "text": [
      "Found 503 images belonging to 6 classes.\n"
     ]
    }
   ],
   "source": [
    "val_generator = datagen.flow_from_directory(\n",
    "    dataset_path,\n",
    "    target_size=(img_height, img_width),\n",
    "    batch_size=batch_size,\n",
    "    class_mode='categorical',\n",
    "    subset='validation',\n",
    "    shuffle=True\n",
    ")"
   ]
  },
  {
   "cell_type": "code",
   "execution_count": 9,
   "id": "e7123692-8cea-45cc-a0c4-6cd032fed873",
   "metadata": {},
   "outputs": [],
   "source": [
    "# === COMPUTE CLASS WEIGHTS FOR BALANCING ===\n",
    "class_weights = compute_class_weight(\n",
    "    class_weight='balanced',\n",
    "    classes=np.unique(train_generator.classes),\n",
    "    y=train_generator.classes\n",
    ")\n",
    "class_weights = dict(enumerate(class_weights))"
   ]
  },
  {
   "cell_type": "code",
   "execution_count": 10,
   "id": "d6d2464d-f90f-49ff-b370-54410f07097b",
   "metadata": {},
   "outputs": [],
   "source": [
    "# === LOAD BASE MODEL (TRANSFER LEARNING) ===\n",
    "base_model = MobileNetV2(\n",
    "    input_shape=(img_height, img_width, 3),\n",
    "    include_top=False,\n",
    "    weights='imagenet',\n",
    "    alpha=0.5  # lightweight model\n",
    ")"
   ]
  },
  {
   "cell_type": "code",
   "execution_count": 11,
   "id": "5e220873-c340-46b0-8811-0ede1057daf0",
   "metadata": {},
   "outputs": [],
   "source": [
    "# === FINE-TUNE LAST 50 LAYERS ===\n",
    "for layer in base_model.layers[:-50]:\n",
    "    layer.trainable = False\n",
    "for layer in base_model.layers[-50:]:\n",
    "    layer.trainable = True\n"
   ]
  },
  {
   "cell_type": "code",
   "execution_count": 12,
   "id": "8a208445-4a49-425b-9194-17352d0f4067",
   "metadata": {},
   "outputs": [],
   "source": [
    "# === CUSTOM CLASSIFICATION HEAD ===\n",
    "x = base_model.output\n",
    "x = GlobalAveragePooling2D()(x)\n",
    "x = Dense(128, activation='relu')(x)\n",
    "x = Dropout(0.4)(x)\n",
    "x = Dense(64, activation='relu')(x)\n",
    "x = Dropout(0.3)(x)\n",
    "output = Dense(train_generator.num_classes, activation='softmax')(x)"
   ]
  },
  {
   "cell_type": "code",
   "execution_count": 13,
   "id": "de043a5a-2bf3-419b-baea-ce6b280b65ef",
   "metadata": {},
   "outputs": [],
   "source": [
    "# === DEFINE FINAL MODEL ===\n",
    "model = Model(inputs=base_model.input, outputs=output)\n"
   ]
  },
  {
   "cell_type": "code",
   "execution_count": 14,
   "id": "fe2a7d9b-48a9-42c3-b810-2710cc4feb60",
   "metadata": {},
   "outputs": [],
   "source": [
    "# === COMPILE MODEL WITH PRECISION & RECALL ===\n",
    "model.compile(\n",
    "    optimizer=Adam(learning_rate=0.0001),\n",
    "    loss='categorical_crossentropy',\n",
    "    metrics=[\n",
    "        'accuracy',\n",
    "        Precision(name='precision'),\n",
    "        Recall(name='recall')\n",
    "    ]\n",
    ")"
   ]
  },
  {
   "cell_type": "code",
   "execution_count": 15,
   "id": "b8f41fb7-3440-4171-a2e0-5b965e7f2ee4",
   "metadata": {},
   "outputs": [],
   "source": [
    "# === CALLBACKS ===\n",
    "callbacks = [\n",
    "    EarlyStopping(patience=8, restore_best_weights=True),\n",
    "    ModelCheckpoint('mobilenetv2_trashnet.h5', save_best_only=True),\n",
    "    ReduceLROnPlateau(monitor='val_loss', factor=0.3, patience=3, min_lr=1e-6)\n",
    "]"
   ]
  },
  {
   "cell_type": "code",
   "execution_count": 16,
   "id": "b81f626a-a726-479b-8537-e9d409274f54",
   "metadata": {},
   "outputs": [
    {
     "name": "stdout",
     "output_type": "stream",
     "text": [
      "Epoch 1/40\n",
      "64/64 [==============================] - 53s 779ms/step - loss: 1.7461 - accuracy: 0.3093 - precision: 0.5115 - recall: 0.0548 - val_loss: 1.4097 - val_accuracy: 0.4811 - val_precision: 0.8529 - val_recall: 0.0577 - lr: 1.0000e-04\n"
     ]
    },
    {
     "name": "stderr",
     "output_type": "stream",
     "text": [
      "C:\\Users\\danie\\AppData\\Local\\Programs\\Python\\Python310\\lib\\site-packages\\keras\\src\\engine\\training.py:3000: UserWarning: You are saving your model as an HDF5 file via `model.save()`. This file format is considered legacy. We recommend using instead the native Keras format, e.g. `model.save('my_model.keras')`.\n",
      "  saving_api.save_model(\n"
     ]
    },
    {
     "name": "stdout",
     "output_type": "stream",
     "text": [
      "Epoch 2/40\n",
      "64/64 [==============================] - 33s 512ms/step - loss: 1.3084 - accuracy: 0.5128 - precision: 0.7784 - recall: 0.2169 - val_loss: 1.3412 - val_accuracy: 0.4493 - val_precision: 0.5643 - val_recall: 0.1571 - lr: 1.0000e-04\n",
      "Epoch 3/40\n",
      "64/64 [==============================] - 34s 526ms/step - loss: 1.0577 - accuracy: 0.6240 - precision: 0.7929 - recall: 0.4066 - val_loss: 1.2780 - val_accuracy: 0.5149 - val_precision: 0.6314 - val_recall: 0.3201 - lr: 1.0000e-04\n",
      "Epoch 4/40\n",
      "64/64 [==============================] - 34s 529ms/step - loss: 0.9145 - accuracy: 0.6729 - precision: 0.8031 - recall: 0.5119 - val_loss: 1.2833 - val_accuracy: 0.5089 - val_precision: 0.5740 - val_recall: 0.3777 - lr: 1.0000e-04\n",
      "Epoch 5/40\n",
      "64/64 [==============================] - 34s 527ms/step - loss: 0.7802 - accuracy: 0.7248 - precision: 0.8199 - recall: 0.6097 - val_loss: 1.4356 - val_accuracy: 0.4692 - val_precision: 0.5227 - val_recall: 0.3658 - lr: 1.0000e-04\n",
      "Epoch 6/40\n",
      "64/64 [==============================] - 34s 528ms/step - loss: 0.6850 - accuracy: 0.7643 - precision: 0.8309 - recall: 0.6625 - val_loss: 1.4066 - val_accuracy: 0.5209 - val_precision: 0.5783 - val_recall: 0.4553 - lr: 1.0000e-04\n",
      "Epoch 7/40\n",
      "64/64 [==============================] - 34s 527ms/step - loss: 0.6384 - accuracy: 0.7811 - precision: 0.8450 - recall: 0.6922 - val_loss: 1.3539 - val_accuracy: 0.5408 - val_precision: 0.6096 - val_recall: 0.4811 - lr: 3.0000e-05\n",
      "Epoch 8/40\n",
      "64/64 [==============================] - 33s 522ms/step - loss: 0.5681 - accuracy: 0.8019 - precision: 0.8587 - recall: 0.7238 - val_loss: 1.3198 - val_accuracy: 0.5567 - val_precision: 0.6028 - val_recall: 0.5070 - lr: 3.0000e-05\n",
      "Epoch 9/40\n",
      "64/64 [==============================] - 33s 523ms/step - loss: 0.5729 - accuracy: 0.7950 - precision: 0.8588 - recall: 0.7243 - val_loss: 1.3002 - val_accuracy: 0.5527 - val_precision: 0.5874 - val_recall: 0.5010 - lr: 3.0000e-05\n",
      "Epoch 10/40\n",
      "64/64 [==============================] - 34s 525ms/step - loss: 0.5586 - accuracy: 0.8142 - precision: 0.8757 - recall: 0.7416 - val_loss: 1.2801 - val_accuracy: 0.5467 - val_precision: 0.6024 - val_recall: 0.5030 - lr: 9.0000e-06\n",
      "Epoch 11/40\n",
      "64/64 [==============================] - 34s 525ms/step - loss: 0.5515 - accuracy: 0.8132 - precision: 0.8694 - recall: 0.7436 - val_loss: 1.1933 - val_accuracy: 0.5726 - val_precision: 0.6280 - val_recall: 0.5268 - lr: 9.0000e-06\n",
      "Epoch 12/40\n",
      "64/64 [==============================] - 34s 525ms/step - loss: 0.5248 - accuracy: 0.8211 - precision: 0.8882 - recall: 0.7614 - val_loss: 1.1837 - val_accuracy: 0.5885 - val_precision: 0.6355 - val_recall: 0.5408 - lr: 9.0000e-06\n",
      "Epoch 13/40\n",
      "64/64 [==============================] - 34s 527ms/step - loss: 0.5203 - accuracy: 0.8226 - precision: 0.8789 - recall: 0.7604 - val_loss: 1.1064 - val_accuracy: 0.6402 - val_precision: 0.6828 - val_recall: 0.5905 - lr: 9.0000e-06\n",
      "Epoch 14/40\n",
      "64/64 [==============================] - 33s 522ms/step - loss: 0.5308 - accuracy: 0.8172 - precision: 0.8617 - recall: 0.7544 - val_loss: 1.0255 - val_accuracy: 0.6481 - val_precision: 0.7049 - val_recall: 0.5984 - lr: 9.0000e-06\n",
      "Epoch 15/40\n",
      "64/64 [==============================] - 33s 522ms/step - loss: 0.5422 - accuracy: 0.8231 - precision: 0.8665 - recall: 0.7633 - val_loss: 1.0301 - val_accuracy: 0.6183 - val_precision: 0.6830 - val_recall: 0.5825 - lr: 9.0000e-06\n",
      "Epoch 16/40\n",
      "64/64 [==============================] - 34s 536ms/step - loss: 0.5089 - accuracy: 0.8211 - precision: 0.8708 - recall: 0.7525 - val_loss: 0.9770 - val_accuracy: 0.6561 - val_precision: 0.7056 - val_recall: 0.6004 - lr: 9.0000e-06\n",
      "Epoch 17/40\n",
      "64/64 [==============================] - 34s 526ms/step - loss: 0.5127 - accuracy: 0.8300 - precision: 0.8815 - recall: 0.7752 - val_loss: 0.9389 - val_accuracy: 0.6740 - val_precision: 0.7273 - val_recall: 0.6203 - lr: 9.0000e-06\n",
      "Epoch 18/40\n",
      "64/64 [==============================] - 34s 524ms/step - loss: 0.4851 - accuracy: 0.8286 - precision: 0.8744 - recall: 0.7737 - val_loss: 0.9394 - val_accuracy: 0.6600 - val_precision: 0.7195 - val_recall: 0.6223 - lr: 9.0000e-06\n",
      "Epoch 19/40\n",
      "64/64 [==============================] - 34s 536ms/step - loss: 0.5055 - accuracy: 0.8236 - precision: 0.8855 - recall: 0.7638 - val_loss: 0.9251 - val_accuracy: 0.6839 - val_precision: 0.7348 - val_recall: 0.6501 - lr: 9.0000e-06\n",
      "Epoch 20/40\n",
      "64/64 [==============================] - 34s 528ms/step - loss: 0.4950 - accuracy: 0.8271 - precision: 0.8767 - recall: 0.7727 - val_loss: 0.8770 - val_accuracy: 0.7078 - val_precision: 0.7483 - val_recall: 0.6680 - lr: 9.0000e-06\n",
      "Epoch 21/40\n",
      "64/64 [==============================] - 34s 534ms/step - loss: 0.4804 - accuracy: 0.8414 - precision: 0.8816 - recall: 0.7762 - val_loss: 0.8485 - val_accuracy: 0.7078 - val_precision: 0.7596 - val_recall: 0.6660 - lr: 9.0000e-06\n",
      "Epoch 22/40\n",
      "64/64 [==============================] - 33s 522ms/step - loss: 0.4810 - accuracy: 0.8286 - precision: 0.8757 - recall: 0.7693 - val_loss: 0.8657 - val_accuracy: 0.6978 - val_precision: 0.7529 - val_recall: 0.6481 - lr: 9.0000e-06\n",
      "Epoch 23/40\n",
      "64/64 [==============================] - 34s 524ms/step - loss: 0.5130 - accuracy: 0.8261 - precision: 0.8716 - recall: 0.7678 - val_loss: 0.8004 - val_accuracy: 0.7237 - val_precision: 0.7629 - val_recall: 0.6779 - lr: 9.0000e-06\n",
      "Epoch 24/40\n",
      "64/64 [==============================] - 34s 523ms/step - loss: 0.4925 - accuracy: 0.8375 - precision: 0.8766 - recall: 0.7683 - val_loss: 0.8179 - val_accuracy: 0.6899 - val_precision: 0.7500 - val_recall: 0.6620 - lr: 9.0000e-06\n",
      "Epoch 25/40\n",
      "64/64 [==============================] - 34s 530ms/step - loss: 0.4692 - accuracy: 0.8384 - precision: 0.8849 - recall: 0.7826 - val_loss: 0.7885 - val_accuracy: 0.7237 - val_precision: 0.7790 - val_recall: 0.6799 - lr: 9.0000e-06\n",
      "Epoch 26/40\n",
      "64/64 [==============================] - 34s 529ms/step - loss: 0.4663 - accuracy: 0.8330 - precision: 0.8804 - recall: 0.7782 - val_loss: 0.7645 - val_accuracy: 0.7475 - val_precision: 0.7901 - val_recall: 0.6958 - lr: 9.0000e-06\n",
      "Epoch 27/40\n",
      "64/64 [==============================] - 33s 522ms/step - loss: 0.4472 - accuracy: 0.8424 - precision: 0.8843 - recall: 0.7851 - val_loss: 0.7719 - val_accuracy: 0.7197 - val_precision: 0.7668 - val_recall: 0.6799 - lr: 9.0000e-06\n",
      "Epoch 28/40\n",
      "64/64 [==============================] - 34s 530ms/step - loss: 0.4569 - accuracy: 0.8419 - precision: 0.8870 - recall: 0.7910 - val_loss: 0.7466 - val_accuracy: 0.7475 - val_precision: 0.7808 - val_recall: 0.6938 - lr: 9.0000e-06\n",
      "Epoch 29/40\n",
      "64/64 [==============================] - 34s 528ms/step - loss: 0.4494 - accuracy: 0.8513 - precision: 0.8917 - recall: 0.8014 - val_loss: 0.7411 - val_accuracy: 0.7575 - val_precision: 0.7854 - val_recall: 0.7058 - lr: 9.0000e-06\n",
      "Epoch 30/40\n",
      "64/64 [==============================] - 34s 528ms/step - loss: 0.4394 - accuracy: 0.8468 - precision: 0.8961 - recall: 0.7964 - val_loss: 0.7093 - val_accuracy: 0.7376 - val_precision: 0.7927 - val_recall: 0.6918 - lr: 9.0000e-06\n",
      "Epoch 31/40\n",
      "64/64 [==============================] - 34s 528ms/step - loss: 0.4558 - accuracy: 0.8399 - precision: 0.8799 - recall: 0.7925 - val_loss: 0.7453 - val_accuracy: 0.7356 - val_precision: 0.7829 - val_recall: 0.7097 - lr: 9.0000e-06\n",
      "Epoch 32/40\n",
      "64/64 [==============================] - 34s 528ms/step - loss: 0.4066 - accuracy: 0.8622 - precision: 0.9039 - recall: 0.8226 - val_loss: 0.7198 - val_accuracy: 0.7296 - val_precision: 0.7795 - val_recall: 0.6958 - lr: 9.0000e-06\n",
      "Epoch 33/40\n",
      "64/64 [==============================] - 34s 527ms/step - loss: 0.4593 - accuracy: 0.8370 - precision: 0.8807 - recall: 0.7915 - val_loss: 0.7576 - val_accuracy: 0.7336 - val_precision: 0.7840 - val_recall: 0.6998 - lr: 9.0000e-06\n",
      "Epoch 34/40\n",
      "64/64 [==============================] - 34s 522ms/step - loss: 0.4374 - accuracy: 0.8523 - precision: 0.8911 - recall: 0.8083 - val_loss: 0.7245 - val_accuracy: 0.7376 - val_precision: 0.7689 - val_recall: 0.7078 - lr: 2.7000e-06\n",
      "Epoch 35/40\n",
      "64/64 [==============================] - 34s 530ms/step - loss: 0.4182 - accuracy: 0.8508 - precision: 0.8868 - recall: 0.8053 - val_loss: 0.7070 - val_accuracy: 0.7495 - val_precision: 0.8068 - val_recall: 0.7058 - lr: 2.7000e-06\n",
      "Epoch 36/40\n",
      "64/64 [==============================] - 34s 526ms/step - loss: 0.4101 - accuracy: 0.8577 - precision: 0.9004 - recall: 0.8127 - val_loss: 0.7209 - val_accuracy: 0.7455 - val_precision: 0.7804 - val_recall: 0.7137 - lr: 2.7000e-06\n",
      "Epoch 37/40\n",
      "64/64 [==============================] - 34s 526ms/step - loss: 0.4159 - accuracy: 0.8572 - precision: 0.9034 - recall: 0.8177 - val_loss: 0.7367 - val_accuracy: 0.7316 - val_precision: 0.7615 - val_recall: 0.6918 - lr: 2.7000e-06\n",
      "Epoch 38/40\n",
      "64/64 [==============================] - 34s 526ms/step - loss: 0.4085 - accuracy: 0.8538 - precision: 0.8906 - recall: 0.8043 - val_loss: 0.7025 - val_accuracy: 0.7435 - val_precision: 0.7862 - val_recall: 0.7018 - lr: 2.7000e-06\n",
      "Epoch 39/40\n",
      "64/64 [==============================] - 33s 520ms/step - loss: 0.4052 - accuracy: 0.8701 - precision: 0.9039 - recall: 0.8271 - val_loss: 0.7049 - val_accuracy: 0.7316 - val_precision: 0.7827 - val_recall: 0.7018 - lr: 2.7000e-06\n",
      "Epoch 40/40\n",
      "64/64 [==============================] - 33s 519ms/step - loss: 0.4035 - accuracy: 0.8547 - precision: 0.8891 - recall: 0.8078 - val_loss: 0.7162 - val_accuracy: 0.7455 - val_precision: 0.7881 - val_recall: 0.7097 - lr: 2.7000e-06\n"
     ]
    }
   ],
   "source": [
    "# === TRAIN THE MODEL ===\n",
    "history = model.fit(\n",
    "    train_generator,\n",
    "    validation_data=val_generator,\n",
    "    epochs=epochs,\n",
    "    class_weight=class_weights,\n",
    "    callbacks=callbacks\n",
    ")"
   ]
  },
  {
   "cell_type": "code",
   "execution_count": 18,
   "id": "5376b06b-0b36-4080-95b9-68694de02ae4",
   "metadata": {},
   "outputs": [
    {
     "name": "stdout",
     "output_type": "stream",
     "text": [
      "16/16 [==============================] - 6s 344ms/step - loss: 0.7090 - accuracy: 0.7396 - precision: 0.7879 - recall: 0.7018\n",
      "\n",
      "✅ Final Evaluation Metrics:\n",
      "   🔹 Loss     : 0.7090\n",
      "   🔹 Accuracy : 73.96%\n",
      "   🔹 Precision: 78.79%\n",
      "   🔹 Recall   : 70.18%\n"
     ]
    }
   ],
   "source": [
    "# === FINAL EVALUATION ===\n",
    "results = model.evaluate(val_generator)\n",
    "\n",
    "# Extract values by position or name\n",
    "val_loss = results[0]\n",
    "val_accuracy = results[1]\n",
    "val_precision = results[2]\n",
    "val_recall = results[3]\n",
    "\n",
    "print(f\"\\n✅ Final Evaluation Metrics:\")\n",
    "print(f\"   🔹 Loss     : {val_loss:.4f}\")\n",
    "print(f\"   🔹 Accuracy : {val_accuracy * 100:.2f}%\")\n",
    "print(f\"   🔹 Precision: {val_precision * 100:.2f}%\")\n",
    "print(f\"   🔹 Recall   : {val_recall * 100:.2f}%\")"
   ]
  },
  {
   "cell_type": "code",
   "execution_count": 21,
   "id": "05e33472-297c-41a8-ad6b-2b99bd4eca43",
   "metadata": {},
   "outputs": [
    {
     "name": "stdout",
     "output_type": "stream",
     "text": [
      "16/16 [==============================] - 6s 339ms/step\n"
     ]
    },
    {
     "data": {
      "image/png": "[encoded data removed]",
      "text/plain": [
       "<Figure size 640x480 with 2 Axes>"
      ]
     },
     "metadata": {},
     "output_type": "display_data"
    }
   ],
   "source": [
    "from sklearn.metrics import confusion_matrix, classification_report\n",
    "import seaborn as sns\n",
    "import matplotlib.pyplot as plt\n",
    "\n",
    "# Predict on validation data\n",
    "Y_pred = model.predict(val_generator)\n",
    "y_pred = np.argmax(Y_pred, axis=1)\n",
    "\n",
    "# Confusion matrix\n",
    "cm = confusion_matrix(val_generator.classes, y_pred)\n",
    "sns.heatmap(cm, annot=True, fmt='d', cmap='Blues')\n",
    "plt.title('Confusion Matrix')\n",
    "plt.xlabel('Predicted')\n",
    "plt.ylabel('True')\n",
    "plt.show()"
   ]
  },
  {
   "cell_type": "code",
   "execution_count": 20,
   "id": "05a6f9bf-f647-44c3-9261-f5235cca9f1b",
   "metadata": {},
   "outputs": [
    {
     "name": "stdout",
     "output_type": "stream",
     "text": [
      "Collecting seaborn\n",
      "  Downloading seaborn-0.13.2-py3-none-any.whl.metadata (5.4 kB)\n",
      "Requirement already satisfied: numpy!=1.24.0,>=1.20 in c:\\users\\danie\\appdata\\local\\programs\\python\\python310\\lib\\site-packages (from seaborn) (1.26.0)\n",
      "Requirement already satisfied: pandas>=1.2 in c:\\users\\danie\\appdata\\local\\programs\\python\\python310\\lib\\site-packages (from seaborn) (2.1.1)\n",
      "Requirement already satisfied: matplotlib!=3.6.1,>=3.4 in c:\\users\\danie\\appdata\\local\\programs\\python\\python310\\lib\\site-packages (from seaborn) (3.8.0)\n",
      "Requirement already satisfied: contourpy>=1.0.1 in c:\\users\\danie\\appdata\\local\\programs\\python\\python310\\lib\\site-packages (from matplotlib!=3.6.1,>=3.4->seaborn) (1.1.1)\n",
      "Requirement already satisfied: cycler>=0.10 in c:\\users\\danie\\appdata\\local\\programs\\python\\python310\\lib\\site-packages (from matplotlib!=3.6.1,>=3.4->seaborn) (0.12.1)\n",
      "Requirement already satisfied: fonttools>=4.22.0 in c:\\users\\danie\\appdata\\local\\programs\\python\\python310\\lib\\site-packages (from matplotlib!=3.6.1,>=3.4->seaborn) (4.43.1)\n",
      "Requirement already satisfied: kiwisolver>=1.0.1 in c:\\users\\danie\\appdata\\local\\programs\\python\\python310\\lib\\site-packages (from matplotlib!=3.6.1,>=3.4->seaborn) (1.4.5)\n",
      "Requirement already satisfied: packaging>=20.0 in c:\\users\\danie\\appdata\\local\\programs\\python\\python310\\lib\\site-packages (from matplotlib!=3.6.1,>=3.4->seaborn) (23.2)\n",
      "Requirement already satisfied: pillow>=6.2.0 in c:\\users\\danie\\appdata\\local\\programs\\python\\python310\\lib\\site-packages (from matplotlib!=3.6.1,>=3.4->seaborn) (10.0.1)\n",
      "Requirement already satisfied: pyparsing>=2.3.1 in c:\\users\\danie\\appdata\\local\\programs\\python\\python310\\lib\\site-packages (from matplotlib!=3.6.1,>=3.4->seaborn) (3.1.1)\n",
      "Requirement already satisfied: python-dateutil>=2.7 in c:\\users\\danie\\appdata\\local\\programs\\python\\python310\\lib\\site-packages (from matplotlib!=3.6.1,>=3.4->seaborn) (2.8.2)\n",
      "Requirement already satisfied: pytz>=2020.1 in c:\\users\\danie\\appdata\\local\\programs\\python\\python310\\lib\\site-packages (from pandas>=1.2->seaborn) (2023.3.post1)\n",
      "Requirement already satisfied: tzdata>=2022.1 in c:\\users\\danie\\appdata\\local\\programs\\python\\python310\\lib\\site-packages (from pandas>=1.2->seaborn) (2023.3)\n",
      "Requirement already satisfied: six>=1.5 in c:\\users\\danie\\appdata\\local\\programs\\python\\python310\\lib\\site-packages (from python-dateutil>=2.7->matplotlib!=3.6.1,>=3.4->seaborn) (1.16.0)\n",
      "Downloading seaborn-0.13.2-py3-none-any.whl (294 kB)\n",
      "Installing collected packages: seaborn\n",
      "Successfully installed seaborn-0.13.2\n",
      "Note: you may need to restart the kernel to use updated packages.\n"
     ]
    },
    {
     "name": "stderr",
     "output_type": "stream",
     "text": [
      "WARNING: Ignoring invalid distribution -otebook (c:\\users\\danie\\appdata\\local\\programs\\python\\python310\\lib\\site-packages)\n",
      "WARNING: Ignoring invalid distribution -otebook (c:\\users\\danie\\appdata\\local\\programs\\python\\python310\\lib\\site-packages)\n",
      "WARNING: Ignoring invalid distribution -otebook (c:\\users\\danie\\appdata\\local\\programs\\python\\python310\\lib\\site-packages)\n",
      "\n",
      "[notice] A new release of pip is available: 24.3.1 -> 25.1.1\n",
      "[notice] To update, run: python.exe -m pip install --upgrade pip\n"
     ]
    }
   ],
   "source": [
    "pip install seaborn\n"
   ]
  },
  {
   "cell_type": "code",
   "execution_count": null,
   "id": "88402502-ff3b-406d-8ee0-79bfe1768dc7",
   "metadata": {},
   "outputs": [],
   "source": []
  }
 ],
 "metadata": {
  "kernelspec": {
   "display_name": "Python 3 (ipykernel)",
   "language": "python",
   "name": "python3"
  },
  "language_info": {
   "codemirror_mode": {
    "name": "ipython",
    "version": 3
   },
   "file_extension": ".py",
   "mimetype": "text/x-python",
   "name": "python",
   "nbconvert_exporter": "python",
   "pygments_lexer": "ipython3",
   "version": "3.10.11"
  }
 },
 "nbformat": 4,
 "nbformat_minor": 5
}
